{
  "nbformat": 4,
  "nbformat_minor": 0,
  "metadata": {
    "colab": {
      "name": "Untitled1.ipynb",
      "provenance": [],
      "collapsed_sections": [],
      "toc_visible": true,
      "authorship_tag": "ABX9TyMJlH0r9fK8o+k776G8xmz3",
      "include_colab_link": true
    },
    "kernelspec": {
      "name": "python3",
      "display_name": "Python 3"
    }
  },
  "cells": [
    {
      "cell_type": "markdown",
      "metadata": {
        "id": "view-in-github",
        "colab_type": "text"
      },
      "source": [
        "<a href=\"https://colab.research.google.com/github/yagnahaunj1410/compiler_design/blob/master/python.ipynb\" target=\"_parent\"><img src=\"https://colab.research.google.com/assets/colab-badge.svg\" alt=\"Open In Colab\"/></a>"
      ]
    },
    {
      "cell_type": "code",
      "metadata": {
        "id": "o6DIessOAUWY",
        "colab_type": "code",
        "colab": {}
      },
      "source": [
        "name = 'Yagnahaun Jonnadula'"
      ],
      "execution_count": 0,
      "outputs": []
    },
    {
      "cell_type": "code",
      "metadata": {
        "id": "IEcXfn7sAh4P",
        "colab_type": "code",
        "outputId": "0b6e132d-056d-4da1-c69b-addea9240278",
        "colab": {
          "base_uri": "https://localhost:8080/",
          "height": 34
        }
      },
      "source": [
        "type(name)"
      ],
      "execution_count": 0,
      "outputs": [
        {
          "output_type": "execute_result",
          "data": {
            "text/plain": [
              "str"
            ]
          },
          "metadata": {
            "tags": []
          },
          "execution_count": 2
        }
      ]
    },
    {
      "cell_type": "code",
      "metadata": {
        "id": "Du3acS0DAn9N",
        "colab_type": "code",
        "outputId": "cb709d5f-2bd2-4bdc-e697-02036bfb27f7",
        "colab": {
          "base_uri": "https://localhost:8080/",
          "height": 34
        }
      },
      "source": [
        "print(name)"
      ],
      "execution_count": 0,
      "outputs": [
        {
          "output_type": "stream",
          "text": [
            "Yagnahaun Jonnadula\n"
          ],
          "name": "stdout"
        }
      ]
    },
    {
      "cell_type": "code",
      "metadata": {
        "id": "mvD_wVisArlC",
        "colab_type": "code",
        "outputId": "d051ad50-1900-43ff-ccf1-64cec16a5bb0",
        "colab": {
          "base_uri": "https://localhost:8080/",
          "height": 34
        }
      },
      "source": [
        "screen_size = 4.3\n",
        "type(screen_size)\n",
        "print(screen_size)"
      ],
      "execution_count": 0,
      "outputs": [
        {
          "output_type": "stream",
          "text": [
            "4.3\n"
          ],
          "name": "stdout"
        }
      ]
    },
    {
      "cell_type": "code",
      "metadata": {
        "id": "Wt7V0sVXA-XX",
        "colab_type": "code",
        "outputId": "87b9a19b-090e-4f3c-d5bd-65adfeeb3e7e",
        "colab": {
          "base_uri": "https://localhost:8080/",
          "height": 34
        }
      },
      "source": [
        "print('My name is' + name)"
      ],
      "execution_count": 0,
      "outputs": [
        {
          "output_type": "stream",
          "text": [
            "My name isYagnahaun Jonnadula\n"
          ],
          "name": "stdout"
        }
      ]
    },
    {
      "cell_type": "code",
      "metadata": {
        "id": "7K9ylnVqBFGO",
        "colab_type": "code",
        "outputId": "1b06cfa0-61ec-4252-9885-6627c3abd75a",
        "colab": {
          "base_uri": "https://localhost:8080/",
          "height": 34
        }
      },
      "source": [
        "is_name = False\n",
        "type(is_name)\n"
      ],
      "execution_count": 0,
      "outputs": [
        {
          "output_type": "execute_result",
          "data": {
            "text/plain": [
              "bool"
            ]
          },
          "metadata": {
            "tags": []
          },
          "execution_count": 6
        }
      ]
    },
    {
      "cell_type": "code",
      "metadata": {
        "id": "Of4cgAwmBORd",
        "colab_type": "code",
        "outputId": "2896c9d5-142f-430b-eebe-aba5fa1ad5d6",
        "colab": {
          "base_uri": "https://localhost:8080/",
          "height": 34
        }
      },
      "source": [
        "print(is_name == True)\n"
      ],
      "execution_count": 0,
      "outputs": [
        {
          "output_type": "stream",
          "text": [
            "False\n"
          ],
          "name": "stdout"
        }
      ]
    },
    {
      "cell_type": "code",
      "metadata": {
        "id": "R26Ty9iPK46H",
        "colab_type": "code",
        "colab": {}
      },
      "source": [
        "num_of_letters = 9"
      ],
      "execution_count": 0,
      "outputs": []
    },
    {
      "cell_type": "code",
      "metadata": {
        "id": "UN8LufZJK_O7",
        "colab_type": "code",
        "outputId": "a029baf1-1b9c-439b-dd28-974d16f57029",
        "colab": {
          "base_uri": "https://localhost:8080/",
          "height": 34
        }
      },
      "source": [
        "type(num_of_letters)"
      ],
      "execution_count": 0,
      "outputs": [
        {
          "output_type": "execute_result",
          "data": {
            "text/plain": [
              "int"
            ]
          },
          "metadata": {
            "tags": []
          },
          "execution_count": 39
        }
      ]
    },
    {
      "cell_type": "code",
      "metadata": {
        "id": "_r_P7lszLDeU",
        "colab_type": "code",
        "outputId": "ab54d386-618e-419e-a1e0-c823a4a5fd94",
        "colab": {
          "base_uri": "https://localhost:8080/",
          "height": 34
        }
      },
      "source": [
        "print(num_of_letters)"
      ],
      "execution_count": 0,
      "outputs": [
        {
          "output_type": "stream",
          "text": [
            "9\n"
          ],
          "name": "stdout"
        }
      ]
    },
    {
      "cell_type": "code",
      "metadata": {
        "id": "hyaQjL0YBZT1",
        "colab_type": "code",
        "outputId": "94694d9e-366e-4c04-98f5-5b80ac1c397b",
        "colab": {
          "base_uri": "https://localhost:8080/",
          "height": 34
        }
      },
      "source": [
        "print(is_name == False and num_of_letters > 9)"
      ],
      "execution_count": 0,
      "outputs": [
        {
          "output_type": "stream",
          "text": [
            "False\n"
          ],
          "name": "stdout"
        }
      ]
    },
    {
      "cell_type": "code",
      "metadata": {
        "id": "i9_e2NoHBoVF",
        "colab_type": "code",
        "outputId": "05e5f27e-c867-4dc1-ef73-c05e4b74e633",
        "colab": {
          "base_uri": "https://localhost:8080/",
          "height": 68
        }
      },
      "source": [
        "if is_name == False:\n",
        "  print(name + 'is a boy')\n",
        "  print('This continues the print statement in the if block')\n",
        "print('Printing outside the block')"
      ],
      "execution_count": 0,
      "outputs": [
        {
          "output_type": "stream",
          "text": [
            "Yagnahaun Jonnadulais a boy\n",
            "This continues the print statement in the if block\n",
            "Printing outside the block\n"
          ],
          "name": "stdout"
        }
      ]
    },
    {
      "cell_type": "code",
      "metadata": {
        "id": "U6tM8UwCCaB5",
        "colab_type": "code",
        "outputId": "03f49220-bb4d-4f62-da01-39b80bc379c7",
        "colab": {
          "base_uri": "https://localhost:8080/",
          "height": 102
        }
      },
      "source": [
        "for i in range(5):\n",
        "  print(i, i**2)"
      ],
      "execution_count": 0,
      "outputs": [
        {
          "output_type": "stream",
          "text": [
            "0 0\n",
            "1 1\n",
            "2 4\n",
            "3 9\n",
            "4 16\n"
          ],
          "name": "stdout"
        }
      ]
    },
    {
      "cell_type": "code",
      "metadata": {
        "id": "vzjof6xYDe_y",
        "colab_type": "code",
        "colab": {}
      },
      "source": [
        "range?"
      ],
      "execution_count": 0,
      "outputs": []
    },
    {
      "cell_type": "code",
      "metadata": {
        "id": "9hYNG5z1ECfH",
        "colab_type": "code",
        "outputId": "81bf81f3-1099-4733-d69e-3b4f2f592b8b",
        "colab": {
          "base_uri": "https://localhost:8080/",
          "height": 85
        }
      },
      "source": [
        "for i in range(5,9):\n",
        "  print(i)"
      ],
      "execution_count": 0,
      "outputs": [
        {
          "output_type": "stream",
          "text": [
            "5\n",
            "6\n",
            "7\n",
            "8\n"
          ],
          "name": "stdout"
        }
      ]
    },
    {
      "cell_type": "code",
      "metadata": {
        "id": "bV3J47PeEXWz",
        "colab_type": "code",
        "outputId": "cfa0dffc-a1d2-4646-eb85-dd72afa2ecc3",
        "colab": {
          "base_uri": "https://localhost:8080/",
          "height": 102
        }
      },
      "source": [
        "i = 0\n",
        "while i < 5:\n",
        "  print(i, i**2)\n",
        "  i += 1"
      ],
      "execution_count": 0,
      "outputs": [
        {
          "output_type": "stream",
          "text": [
            "0 0\n",
            "1 1\n",
            "2 4\n",
            "3 9\n",
            "4 16\n"
          ],
          "name": "stdout"
        }
      ]
    },
    {
      "cell_type": "code",
      "metadata": {
        "id": "KZZ_izZtEuqB",
        "colab_type": "code",
        "colab": {}
      },
      "source": [
        "def print_sqaures(val):\n",
        "  for i in range(val):\n",
        "    print(i, i**2)m"
      ],
      "execution_count": 0,
      "outputs": []
    },
    {
      "cell_type": "code",
      "metadata": {
        "id": "AEjz2AU9FLJY",
        "colab_type": "code",
        "outputId": "8f69ec2c-8e87-4caf-dd96-9f7b7157f39d",
        "colab": {
          "base_uri": "https://localhost:8080/",
          "height": 85
        }
      },
      "source": [
        "print_sqaures(4)"
      ],
      "execution_count": 0,
      "outputs": [
        {
          "output_type": "stream",
          "text": [
            "0 0\n",
            "1 1\n",
            "2 4\n",
            "3 9\n"
          ],
          "name": "stdout"
        }
      ]
    },
    {
      "cell_type": "code",
      "metadata": {
        "id": "lSwBVIlhFvSR",
        "colab_type": "code",
        "outputId": "bb8fcb6a-021e-40a7-ecae-085108a9a6ba",
        "colab": {
          "base_uri": "https://localhost:8080/",
          "height": 442
        }
      },
      "source": [
        "print_sqaures(25)"
      ],
      "execution_count": 0,
      "outputs": [
        {
          "output_type": "stream",
          "text": [
            "0 0\n",
            "1 1\n",
            "2 4\n",
            "3 9\n",
            "4 16\n",
            "5 25\n",
            "6 36\n",
            "7 49\n",
            "8 64\n",
            "9 81\n",
            "10 100\n",
            "11 121\n",
            "12 144\n",
            "13 169\n",
            "14 196\n",
            "15 225\n",
            "16 256\n",
            "17 289\n",
            "18 324\n",
            "19 361\n",
            "20 400\n",
            "21 441\n",
            "22 484\n",
            "23 529\n",
            "24 576\n"
          ],
          "name": "stdout"
        }
      ]
    },
    {
      "cell_type": "code",
      "metadata": {
        "id": "AFOJxyJkF0cq",
        "colab_type": "code",
        "colab": {}
      },
      "source": [
        "def sum_of_squares(val):\n",
        "  sum_ = 0\n",
        "  for i in range(val):\n",
        "    sum_ += i**2\n",
        "    print(i, i**2, sum_)\n",
        "  return sum_\n"
      ],
      "execution_count": 0,
      "outputs": []
    },
    {
      "cell_type": "code",
      "metadata": {
        "id": "vR_Fl7ykGUPa",
        "colab_type": "code",
        "outputId": "89e808d9-607a-4795-99c1-2fee85b1394c",
        "colab": {
          "base_uri": "https://localhost:8080/",
          "height": 85
        }
      },
      "source": [
        "sum_5 = sum_of_squares(4)"
      ],
      "execution_count": 0,
      "outputs": [
        {
          "output_type": "stream",
          "text": [
            "0 0 0\n",
            "1 1 1\n",
            "2 4 5\n",
            "3 9 14\n"
          ],
          "name": "stdout"
        }
      ]
    },
    {
      "cell_type": "code",
      "metadata": {
        "id": "Acbb3JkhGbpX",
        "colab_type": "code",
        "outputId": "989ad678-f4ee-4912-83b4-60852a651f04",
        "colab": {
          "base_uri": "https://localhost:8080/",
          "height": 34
        }
      },
      "source": [
        "print(sum_5)"
      ],
      "execution_count": 0,
      "outputs": [
        {
          "output_type": "stream",
          "text": [
            "14\n"
          ],
          "name": "stdout"
        }
      ]
    },
    {
      "cell_type": "code",
      "metadata": {
        "id": "tpH7YsSmH6dH",
        "colab_type": "code",
        "colab": {}
      },
      "source": [
        "def sum_of_squares(start, stop):\n",
        "  sum_ = 0\n",
        "  for i in range(start, stop):\n",
        "    sum_ += i**2\n",
        "    print(i, i**2, sum_)\n",
        "  return sum_"
      ],
      "execution_count": 0,
      "outputs": []
    },
    {
      "cell_type": "code",
      "metadata": {
        "id": "t9X9nRxEIHR1",
        "colab_type": "code",
        "outputId": "43354835-2ae3-4516-e214-d6c9d509a3ab",
        "colab": {
          "base_uri": "https://localhost:8080/",
          "height": 85
        }
      },
      "source": [
        "sum_of_squares(3, 6)"
      ],
      "execution_count": 0,
      "outputs": [
        {
          "output_type": "stream",
          "text": [
            "3 9 9\n",
            "4 16 25\n",
            "5 25 50\n"
          ],
          "name": "stdout"
        },
        {
          "output_type": "execute_result",
          "data": {
            "text/plain": [
              "50"
            ]
          },
          "metadata": {
            "tags": []
          },
          "execution_count": 32
        }
      ]
    },
    {
      "cell_type": "code",
      "metadata": {
        "id": "gi2QMEi9IPQO",
        "colab_type": "code",
        "outputId": "f25aba27-a9eb-42f2-ae8d-37258f2bce44",
        "colab": {
          "base_uri": "https://localhost:8080/",
          "height": 85
        }
      },
      "source": [
        "help(sum_of_squares)"
      ],
      "execution_count": 0,
      "outputs": [
        {
          "output_type": "stream",
          "text": [
            "Help on function sum_of_squares in module __main__:\n",
            "\n",
            "sum_of_squares(start, stop)\n",
            "\n"
          ],
          "name": "stdout"
        }
      ]
    },
    {
      "cell_type": "markdown",
      "metadata": {
        "id": "tich5pcnJxsU",
        "colab_type": "text"
      },
      "source": [
        "# Lists"
      ]
    },
    {
      "cell_type": "code",
      "metadata": {
        "colab_type": "code",
        "id": "Og-JTzaYLRJx",
        "colab": {}
      },
      "source": [
        "my_phone = [name, is_name, num_of_letters]"
      ],
      "execution_count": 0,
      "outputs": []
    },
    {
      "cell_type": "code",
      "metadata": {
        "colab_type": "code",
        "outputId": "b84440c4-989c-4482-8a1a-2be0d30589e3",
        "id": "u3s1Wg97LxQe",
        "colab": {
          "base_uri": "https://localhost:8080/",
          "height": 34
        }
      },
      "source": [
        "type(my_phone)"
      ],
      "execution_count": 0,
      "outputs": [
        {
          "output_type": "execute_result",
          "data": {
            "text/plain": [
              "list"
            ]
          },
          "metadata": {
            "tags": []
          },
          "execution_count": 49
        }
      ]
    },
    {
      "cell_type": "code",
      "metadata": {
        "id": "XuDo8V1WMivA",
        "colab_type": "code",
        "outputId": "3fbf2f01-93f5-4db2-8b53-cf9c8bef23d1",
        "colab": {
          "base_uri": "https://localhost:8080/",
          "height": 34
        }
      },
      "source": [
        "print(my_phone)"
      ],
      "execution_count": 0,
      "outputs": [
        {
          "output_type": "stream",
          "text": [
            "['Yagnahaun Jonnadula', False, 9]\n"
          ],
          "name": "stdout"
        }
      ]
    },
    {
      "cell_type": "code",
      "metadata": {
        "id": "WYHHa5TzOI6A",
        "colab_type": "code",
        "outputId": "ca92a6c3-f18d-4b97-c35e-f7634a9e34a8",
        "colab": {
          "base_uri": "https://localhost:8080/",
          "height": 34
        }
      },
      "source": [
        "my_phone[0]"
      ],
      "execution_count": 0,
      "outputs": [
        {
          "output_type": "execute_result",
          "data": {
            "text/plain": [
              "'Yagnahaun Jonnadula'"
            ]
          },
          "metadata": {
            "tags": []
          },
          "execution_count": 51
        }
      ]
    },
    {
      "cell_type": "code",
      "metadata": {
        "id": "iVLj6PYqOuPR",
        "colab_type": "code",
        "outputId": "3b535bcb-c555-413e-9001-a78f63718bcd",
        "colab": {
          "base_uri": "https://localhost:8080/",
          "height": 34
        }
      },
      "source": [
        "my_phone[1:3]"
      ],
      "execution_count": 0,
      "outputs": [
        {
          "output_type": "execute_result",
          "data": {
            "text/plain": [
              "[False, 9]"
            ]
          },
          "metadata": {
            "tags": []
          },
          "execution_count": 52
        }
      ]
    },
    {
      "cell_type": "code",
      "metadata": {
        "id": "OHeA8zXeO1sN",
        "colab_type": "code",
        "outputId": "ad1386f2-e823-4f17-9e6b-edb432b4fa31",
        "colab": {
          "base_uri": "https://localhost:8080/",
          "height": 34
        }
      },
      "source": [
        "my_dads_phone = my_phone\n",
        "print(my_dads_phone)"
      ],
      "execution_count": 0,
      "outputs": [
        {
          "output_type": "stream",
          "text": [
            "['Yagnahaun Jonnadula', False, 9]\n"
          ],
          "name": "stdout"
        }
      ]
    },
    {
      "cell_type": "code",
      "metadata": {
        "id": "g845Gk7QO_u-",
        "colab_type": "code",
        "colab": {}
      },
      "source": [
        "my_phone[2] = 7"
      ],
      "execution_count": 0,
      "outputs": []
    },
    {
      "cell_type": "code",
      "metadata": {
        "id": "U7tM5sC-PEhV",
        "colab_type": "code",
        "outputId": "ca43c0a1-d0f4-4bf3-f4a0-41769374923f",
        "colab": {
          "base_uri": "https://localhost:8080/",
          "height": 34
        }
      },
      "source": [
        "my_phone[2]"
      ],
      "execution_count": 0,
      "outputs": [
        {
          "output_type": "execute_result",
          "data": {
            "text/plain": [
              "7"
            ]
          },
          "metadata": {
            "tags": []
          },
          "execution_count": 57
        }
      ]
    },
    {
      "cell_type": "code",
      "metadata": {
        "id": "SKX1x_oTPVat",
        "colab_type": "code",
        "colab": {}
      },
      "source": [
        "my_dads_phone = list(my_phone)"
      ],
      "execution_count": 0,
      "outputs": []
    },
    {
      "cell_type": "code",
      "metadata": {
        "id": "qyBpt-AaPZl3",
        "colab_type": "code",
        "outputId": "99a54fd1-8155-4059-ac37-7938d3230842",
        "colab": {
          "base_uri": "https://localhost:8080/",
          "height": 51
        }
      },
      "source": [
        "my_phone[2] = 4.3\n",
        "print(my_phone)\n",
        "print(my_dads_phone)"
      ],
      "execution_count": 0,
      "outputs": [
        {
          "output_type": "stream",
          "text": [
            "['Yagnahaun Jonnadula', False, 4.3]\n",
            "['Yagnahaun Jonnadula', False, 7]\n"
          ],
          "name": "stdout"
        }
      ]
    },
    {
      "cell_type": "code",
      "metadata": {
        "id": "9bbUzeyfPmjo",
        "colab_type": "code",
        "outputId": "70f8a565-7c69-42a3-b786-a0e08cd4bcf1",
        "colab": {
          "base_uri": "https://localhost:8080/",
          "height": 34
        }
      },
      "source": [
        "len(my_dads_phone)"
      ],
      "execution_count": 0,
      "outputs": [
        {
          "output_type": "execute_result",
          "data": {
            "text/plain": [
              "3"
            ]
          },
          "metadata": {
            "tags": []
          },
          "execution_count": 60
        }
      ]
    },
    {
      "cell_type": "code",
      "metadata": {
        "id": "pNktKQZpPsVm",
        "colab_type": "code",
        "colab": {}
      },
      "source": [
        "my_phone.append('4G')"
      ],
      "execution_count": 0,
      "outputs": []
    },
    {
      "cell_type": "code",
      "metadata": {
        "id": "f2JjyDj9PyOa",
        "colab_type": "code",
        "outputId": "7eff7470-9379-4d88-eb1c-97dbae58821c",
        "colab": {
          "base_uri": "https://localhost:8080/",
          "height": 51
        }
      },
      "source": [
        "print(my_phone)\n",
        "len(my_phone)"
      ],
      "execution_count": 0,
      "outputs": [
        {
          "output_type": "stream",
          "text": [
            "['Yagnahaun Jonnadula', False, 4.3, '4G']\n"
          ],
          "name": "stdout"
        },
        {
          "output_type": "execute_result",
          "data": {
            "text/plain": [
              "4"
            ]
          },
          "metadata": {
            "tags": []
          },
          "execution_count": 63
        }
      ]
    },
    {
      "cell_type": "code",
      "metadata": {
        "id": "PADN3SdtP_QN",
        "colab_type": "code",
        "outputId": "06694be8-6624-410e-b0ae-15c447483b58",
        "colab": {
          "base_uri": "https://localhost:8080/",
          "height": 34
        }
      },
      "source": [
        "iphone7_some_specs = ['Single Sim', 42000, \"HR Camera\"]\n",
        "print(iphone7_some_specs)"
      ],
      "execution_count": 0,
      "outputs": [
        {
          "output_type": "stream",
          "text": [
            "['Single Sim', 42000, 'HR Camera']\n"
          ],
          "name": "stdout"
        }
      ]
    },
    {
      "cell_type": "code",
      "metadata": {
        "id": "f-HCC95JQbNr",
        "colab_type": "code",
        "colab": {}
      },
      "source": [
        "my_phone = my_phone + iphone7_some_specs"
      ],
      "execution_count": 0,
      "outputs": []
    },
    {
      "cell_type": "code",
      "metadata": {
        "id": "q5BCPxbbQh74",
        "colab_type": "code",
        "outputId": "321725d4-22b5-416b-a762-ac164e687dc6",
        "colab": {
          "base_uri": "https://localhost:8080/",
          "height": 34
        }
      },
      "source": [
        "print(my_phone)"
      ],
      "execution_count": 0,
      "outputs": [
        {
          "output_type": "stream",
          "text": [
            "['Yagnahaun Jonnadula', False, 4.3, '4G', 'Single Sim', 42000, 'HR Camera']\n"
          ],
          "name": "stdout"
        }
      ]
    },
    {
      "cell_type": "code",
      "metadata": {
        "id": "-ftu7LyQQ5hg",
        "colab_type": "code",
        "outputId": "9d4471af-e4ed-4a71-ebc6-5fdb51b5f713",
        "colab": {
          "base_uri": "https://localhost:8080/",
          "height": 136
        }
      },
      "source": [
        "for data in my_phone:\n",
        "  print(data)"
      ],
      "execution_count": 0,
      "outputs": [
        {
          "output_type": "stream",
          "text": [
            "Yagnahaun Jonnadula\n",
            "False\n",
            "4.3\n",
            "4G\n",
            "Single Sim\n",
            "42000\n",
            "HR Camera\n"
          ],
          "name": "stdout"
        }
      ]
    },
    {
      "cell_type": "code",
      "metadata": {
        "id": "8Lpcoh9mQ_G5",
        "colab_type": "code",
        "colab": {}
      },
      "source": [
        "var = list(range(5))"
      ],
      "execution_count": 0,
      "outputs": []
    },
    {
      "cell_type": "code",
      "metadata": {
        "id": "IG0mLpI6Rhu6",
        "colab_type": "code",
        "outputId": "e60f6c91-c470-489b-fb77-59f9527c7bd1",
        "colab": {
          "base_uri": "https://localhost:8080/",
          "height": 34
        }
      },
      "source": [
        "tmp = list(map(lambda x: x**2, var))\n",
        "print(tmp)"
      ],
      "execution_count": 0,
      "outputs": [
        {
          "output_type": "stream",
          "text": [
            "[0, 1, 4, 9, 16]\n"
          ],
          "name": "stdout"
        }
      ]
    },
    {
      "cell_type": "code",
      "metadata": {
        "id": "qi08fPeFSXjc",
        "colab_type": "code",
        "outputId": "1818fe82-4d0c-4310-e411-dd9c779c6b91",
        "colab": {
          "base_uri": "https://localhost:8080/",
          "height": 34
        }
      },
      "source": [
        "c = list(filter(lambda x: x % 2 == 0, tmp))\n",
        "print(c)"
      ],
      "execution_count": 0,
      "outputs": [
        {
          "output_type": "stream",
          "text": [
            "[0, 4, 16]\n"
          ],
          "name": "stdout"
        }
      ]
    },
    {
      "cell_type": "markdown",
      "metadata": {
        "id": "iFIdePLNTK_-",
        "colab_type": "text"
      },
      "source": [
        "# Tuples"
      ]
    },
    {
      "cell_type": "code",
      "metadata": {
        "id": "yUfI7fjzSD8t",
        "colab_type": "code",
        "outputId": "81737cae-c068-4bdc-af57-b70888c9d501",
        "colab": {
          "base_uri": "https://localhost:8080/",
          "height": 34
        }
      },
      "source": [
        "print(my_phone)"
      ],
      "execution_count": 0,
      "outputs": [
        {
          "output_type": "stream",
          "text": [
            "['Yagnahaun Jonnadula', False, 4.3, '4G', 'Single Sim', 42000, 'HR Camera']\n"
          ],
          "name": "stdout"
        }
      ]
    },
    {
      "cell_type": "code",
      "metadata": {
        "id": "h1hVb2v2TSoe",
        "colab_type": "code",
        "colab": {}
      },
      "source": [
        "my_phone_tuple = ('iphone 5s', False, 4.3, '4G', 'Single Sim', 42000, 'HR Camera')"
      ],
      "execution_count": 0,
      "outputs": []
    },
    {
      "cell_type": "code",
      "metadata": {
        "id": "OdWv4iUiTnEb",
        "colab_type": "code",
        "outputId": "e52276ac-4d3e-4075-b29c-563d70b0c8e8",
        "colab": {
          "base_uri": "https://localhost:8080/",
          "height": 34
        }
      },
      "source": [
        "print(my_phone_tuple)"
      ],
      "execution_count": 0,
      "outputs": [
        {
          "output_type": "stream",
          "text": [
            "('iphone 5s', False, 4.3, '4G', 'Single Sim', 42000, 'HR Camera')\n"
          ],
          "name": "stdout"
        }
      ]
    },
    {
      "cell_type": "code",
      "metadata": {
        "id": "8ZPz6IlKTqb7",
        "colab_type": "code",
        "outputId": "db03aa5f-58bd-41a5-947e-d83ca114a6b3",
        "colab": {
          "base_uri": "https://localhost:8080/",
          "height": 163
        }
      },
      "source": [
        "my_phone_tuple[2] = 7"
      ],
      "execution_count": 0,
      "outputs": [
        {
          "output_type": "error",
          "ename": "TypeError",
          "evalue": "ignored",
          "traceback": [
            "\u001b[0;31m---------------------------------------------------------------------------\u001b[0m",
            "\u001b[0;31mTypeError\u001b[0m                                 Traceback (most recent call last)",
            "\u001b[0;32m<ipython-input-82-64ffdb627c30>\u001b[0m in \u001b[0;36m<module>\u001b[0;34m()\u001b[0m\n\u001b[0;32m----> 1\u001b[0;31m \u001b[0mmy_phone_tuple\u001b[0m\u001b[0;34m[\u001b[0m\u001b[0;36m2\u001b[0m\u001b[0;34m]\u001b[0m \u001b[0;34m=\u001b[0m \u001b[0;36m7\u001b[0m\u001b[0;34m\u001b[0m\u001b[0;34m\u001b[0m\u001b[0m\n\u001b[0m",
            "\u001b[0;31mTypeError\u001b[0m: 'tuple' object does not support item assignment"
          ]
        }
      ]
    },
    {
      "cell_type": "code",
      "metadata": {
        "id": "3m1kLaQsT21S",
        "colab_type": "code",
        "colab": {}
      },
      "source": [
        "import time"
      ],
      "execution_count": 0,
      "outputs": []
    },
    {
      "cell_type": "code",
      "metadata": {
        "id": "-73lJgQrT55Y",
        "colab_type": "code",
        "outputId": "187141ad-7ccc-45c5-de78-3c8e9608a977",
        "colab": {
          "base_uri": "https://localhost:8080/",
          "height": 34
        }
      },
      "source": [
        "tic = time.time()\n",
        "print(tic)"
      ],
      "execution_count": 0,
      "outputs": [
        {
          "output_type": "stream",
          "text": [
            "1585032714.2425244\n"
          ],
          "name": "stdout"
        }
      ]
    },
    {
      "cell_type": "code",
      "metadata": {
        "id": "HKAoWZFyUDgN",
        "colab_type": "code",
        "outputId": "4f5221a9-6770-4ca6-97f2-03b4c47bcdba",
        "colab": {
          "base_uri": "https://localhost:8080/",
          "height": 119
        }
      },
      "source": [
        "tic = time.time()\n",
        "for i in range(5):\n",
        "  print(i)\n",
        "toc = time.time()\n",
        "print('Elapsed time :', toc -tic)\n"
      ],
      "execution_count": 0,
      "outputs": [
        {
          "output_type": "stream",
          "text": [
            "0\n",
            "1\n",
            "2\n",
            "3\n",
            "4\n",
            "Elapsed time : 0.006758689880371094\n"
          ],
          "name": "stdout"
        }
      ]
    },
    {
      "cell_type": "code",
      "metadata": {
        "id": "WWA3W9b1UrF8",
        "colab_type": "code",
        "outputId": "f2b9d6f0-4efd-4b92-fa2f-9e374577dd4e",
        "colab": {
          "base_uri": "https://localhost:8080/",
          "height": 68
        }
      },
      "source": [
        "my_list = list(range(10000000))\n",
        "tic = time.time()\n",
        "my_list_squared = list(map(lambda x:x**2, my_list))\n",
        "toc = time.time()\n",
        "print('Tic:', tic)\n",
        "print('Toc:', toc)\n",
        "print('Time:', toc - tic)"
      ],
      "execution_count": 0,
      "outputs": [
        {
          "output_type": "stream",
          "text": [
            "Tic: 1585033079.2033973\n",
            "Toc: 1585033082.6632433\n",
            "Time: 3.459846019744873\n"
          ],
          "name": "stdout"
        }
      ]
    },
    {
      "cell_type": "code",
      "metadata": {
        "id": "QALq9YDHXx32",
        "colab_type": "code",
        "colab": {}
      },
      "source": [
        ""
      ],
      "execution_count": 0,
      "outputs": []
    },
    {
      "cell_type": "code",
      "metadata": {
        "id": "pbac0kOpVlec",
        "colab_type": "code",
        "outputId": "32742cba-bfdc-47c5-a62c-1c23640ead5a",
        "colab": {
          "base_uri": "https://localhost:8080/",
          "height": 221
        }
      },
      "source": [
        "my_tuple = tuple(range(10000000))\n",
        "tic = time.time()\n",
        "my_tuple_squared = tuple(map(lambda x:x**2, my_tuple))\n",
        "toc = time.time()\n",
        "print('Tic:', tic)\n",
        "print('Toc:', toc)\n",
        "print(my_tuple_squared)\n",
        "print('Time:', toc - tic)"
      ],
      "execution_count": 0,
      "outputs": [
        {
          "output_type": "stream",
          "text": [
            "Tic: 1585033196.653399\n",
            "Toc: 1585033199.8803952\n"
          ],
          "name": "stdout"
        },
        {
          "output_type": "stream",
          "text": [
            "IOPub data rate exceeded.\n",
            "The notebook server will temporarily stop sending output\n",
            "to the client in order to avoid crashing it.\n",
            "To change this limit, set the config variable\n",
            "`--NotebookApp.iopub_data_rate_limit`.\n",
            "\n",
            "Current values:\n",
            "NotebookApp.iopub_data_rate_limit=1000000.0 (bytes/sec)\n",
            "NotebookApp.rate_limit_window=3.0 (secs)\n",
            "\n"
          ],
          "name": "stderr"
        }
      ]
    },
    {
      "cell_type": "markdown",
      "metadata": {
        "id": "NChA8_bLWfhx",
        "colab_type": "text"
      },
      "source": [
        "#Sets"
      ]
    },
    {
      "cell_type": "code",
      "metadata": {
        "id": "U2h1ep0RWkvR",
        "colab_type": "code",
        "outputId": "46f919d1-eeb6-4984-b3fb-122526dad6b9",
        "colab": {
          "base_uri": "https://localhost:8080/",
          "height": 34
        }
      },
      "source": [
        "my_set = set(my_phone)\n",
        "print(my_set)"
      ],
      "execution_count": 0,
      "outputs": [
        {
          "output_type": "stream",
          "text": [
            "{False, '4G', 'Single Sim', 4.3, 42000, 'HR Camera', 'Yagnahaun Jonnadula'}\n"
          ],
          "name": "stdout"
        }
      ]
    },
    {
      "cell_type": "code",
      "metadata": {
        "id": "FIsPXW5uXKoU",
        "colab_type": "code",
        "outputId": "5364331e-ecc2-4a03-de27-bca140f9b3a5",
        "colab": {
          "base_uri": "https://localhost:8080/",
          "height": 54
        }
      },
      "source": [
        "my_phone.append('Yagnahaun Jonnadula')\n",
        "print(my_phone)"
      ],
      "execution_count": 0,
      "outputs": [
        {
          "output_type": "stream",
          "text": [
            "['Yagnahaun Jonnadula', False, 4.3, '4G', 'Single Sim', 42000, 'HR Camera', 'Yagnahaun Jonnadula', 'Yagnahaun Jonnadula']\n"
          ],
          "name": "stdout"
        }
      ]
    },
    {
      "cell_type": "code",
      "metadata": {
        "id": "6GeGir4NXUVf",
        "colab_type": "code",
        "outputId": "aed238b6-22a9-434d-c783-e4af6b6da996",
        "colab": {
          "base_uri": "https://localhost:8080/",
          "height": 34
        }
      },
      "source": [
        "my_set = set(my_phone)\n",
        "print(my_set)"
      ],
      "execution_count": 0,
      "outputs": [
        {
          "output_type": "stream",
          "text": [
            "{False, '4G', 'Single Sim', 4.3, 42000, 'HR Camera', 'Yagnahaun Jonnadula'}\n"
          ],
          "name": "stdout"
        }
      ]
    },
    {
      "cell_type": "code",
      "metadata": {
        "id": "JacZH7aOXyuk",
        "colab_type": "code",
        "outputId": "774aafc6-24b4-4c9c-89f1-8e1b38196baf",
        "colab": {
          "base_uri": "https://localhost:8080/",
          "height": 119
        }
      },
      "source": [
        "my_list = list(range(10000000))\n",
        "tic = time.time()\n",
        "print(9847 in my_list)\n",
        "print(8942628 in my_list)\n",
        "print(902480942179 in my_list)\n",
        "toc = time.time()\n",
        "print('Tic:', tic)\n",
        "print('Toc:', toc)\n",
        "print('Time:', toc - tic)"
      ],
      "execution_count": 0,
      "outputs": [
        {
          "output_type": "stream",
          "text": [
            "True\n",
            "True\n",
            "False\n",
            "Tic: 1585034007.3217354\n",
            "Toc: 1585034007.5315604\n",
            "Time: 0.2098250389099121\n"
          ],
          "name": "stdout"
        }
      ]
    },
    {
      "cell_type": "code",
      "metadata": {
        "colab_type": "code",
        "outputId": "61f3ae34-52cb-449d-c282-97b36fd11ad0",
        "id": "Tbb-vZlLYxTi",
        "colab": {
          "base_uri": "https://localhost:8080/",
          "height": 119
        }
      },
      "source": [
        "my_tuple = tuple(range(10000000))\n",
        "tic = time.time()\n",
        "print(9847 in my_tuple)\n",
        "print(8942628 in my_tuple)\n",
        "print(902480942179 in my_tuple)\n",
        "toc = time.time()\n",
        "print('Tic:', tic)\n",
        "print('Toc:', toc)\n",
        "print('Time:', toc - tic)"
      ],
      "execution_count": 0,
      "outputs": [
        {
          "output_type": "stream",
          "text": [
            "True\n",
            "True\n",
            "False\n",
            "Tic: 1585034012.9998045\n",
            "Toc: 1585034013.2136114\n",
            "Time: 0.2138068675994873\n"
          ],
          "name": "stdout"
        }
      ]
    },
    {
      "cell_type": "code",
      "metadata": {
        "id": "SFEuiqGCY-t4",
        "colab_type": "code",
        "outputId": "05c30a60-c617-4fd5-b2fe-4ecd1b0a2776",
        "colab": {
          "base_uri": "https://localhost:8080/",
          "height": 119
        }
      },
      "source": [
        "my_set = set(range(10000000))\n",
        "tic = time.time()\n",
        "print(9847 in my_set)\n",
        "print(8942628 in my_set)\n",
        "print(902480942179 in my_set)\n",
        "toc = time.time()\n",
        "print('Tic:', tic)\n",
        "print('Toc:', toc)\n",
        "print('Time:', toc - tic)"
      ],
      "execution_count": 0,
      "outputs": [
        {
          "output_type": "stream",
          "text": [
            "True\n",
            "True\n",
            "False\n",
            "Tic: 1585034060.898961\n",
            "Toc: 1585034060.900086\n",
            "Time: 0.0011248588562011719\n"
          ],
          "name": "stdout"
        }
      ]
    },
    {
      "cell_type": "markdown",
      "metadata": {
        "id": "ljhbe-sDZcnj",
        "colab_type": "text"
      },
      "source": [
        "#Dicts "
      ]
    },
    {
      "cell_type": "code",
      "metadata": {
        "id": "sXhkuX1IZfbn",
        "colab_type": "code",
        "colab": {}
      },
      "source": [
        "my_phone_dict = {}"
      ],
      "execution_count": 0,
      "outputs": []
    },
    {
      "cell_type": "code",
      "metadata": {
        "id": "wWPm_uJzZj55",
        "colab_type": "code",
        "colab": {}
      },
      "source": [
        "my_phone_dict['name'] = 'Iphone 5s'\n",
        "my_phone_dict['isAndroid'] = False\n",
        "my_phone_dict['screenSize'] = 4.3"
      ],
      "execution_count": 0,
      "outputs": []
    },
    {
      "cell_type": "code",
      "metadata": {
        "id": "WXBZPZ_7Zw6D",
        "colab_type": "code",
        "outputId": "a18acdb4-f898-40a8-9e92-80b222155a4e",
        "colab": {
          "base_uri": "https://localhost:8080/",
          "height": 34
        }
      },
      "source": [
        "print(my_phone_dict)"
      ],
      "execution_count": 0,
      "outputs": [
        {
          "output_type": "stream",
          "text": [
            "{'name': 'Iphone 5s', 'isAndroid': False, 'screenSize': 4.3}\n"
          ],
          "name": "stdout"
        }
      ]
    },
    {
      "cell_type": "code",
      "metadata": {
        "id": "cGF4sCfNZ0Tw",
        "colab_type": "code",
        "outputId": "c405b7ba-14ea-4d77-8c83-08ae8c8f3c62",
        "colab": {
          "base_uri": "https://localhost:8080/",
          "height": 34
        }
      },
      "source": [
        "my_phone_dict['name'] "
      ],
      "execution_count": 0,
      "outputs": [
        {
          "output_type": "execute_result",
          "data": {
            "text/plain": [
              "'Iphone 5s'"
            ]
          },
          "metadata": {
            "tags": []
          },
          "execution_count": 111
        }
      ]
    },
    {
      "cell_type": "markdown",
      "metadata": {
        "id": "YfwFcW34cuOu",
        "colab_type": "text"
      },
      "source": [
        "#Python Packages"
      ]
    },
    {
      "cell_type": "code",
      "metadata": {
        "id": "x45zPSXecwpe",
        "colab_type": "code",
        "colab": {}
      },
      "source": [
        "import math as m"
      ],
      "execution_count": 0,
      "outputs": []
    },
    {
      "cell_type": "code",
      "metadata": {
        "id": "fQAGzVFFc0F7",
        "colab_type": "code",
        "colab": {}
      },
      "source": [
        "import time as t"
      ],
      "execution_count": 0,
      "outputs": []
    },
    {
      "cell_type": "code",
      "metadata": {
        "id": "WydrhwDcc4VL",
        "colab_type": "code",
        "outputId": "0cd2725c-2a88-4465-c73c-c3e132991630",
        "colab": {
          "base_uri": "https://localhost:8080/",
          "height": 34
        }
      },
      "source": [
        "y = m.factorial(5)\n",
        "print(y)"
      ],
      "execution_count": 0,
      "outputs": [
        {
          "output_type": "stream",
          "text": [
            "120\n"
          ],
          "name": "stdout"
        }
      ]
    },
    {
      "cell_type": "code",
      "metadata": {
        "id": "qJOa5ygGc-Sq",
        "colab_type": "code",
        "colab": {}
      },
      "source": [
        "from math import factorial"
      ],
      "execution_count": 0,
      "outputs": []
    },
    {
      "cell_type": "code",
      "metadata": {
        "id": "6BIBF6IRdCMh",
        "colab_type": "code",
        "outputId": "a9e13946-ed9a-4463-d8e7-f55896963060",
        "colab": {
          "base_uri": "https://localhost:8080/",
          "height": 34
        }
      },
      "source": [
        "y - m.factorial(5)\n",
        "print(y)"
      ],
      "execution_count": 0,
      "outputs": [
        {
          "output_type": "stream",
          "text": [
            "120\n"
          ],
          "name": "stdout"
        }
      ]
    },
    {
      "cell_type": "code",
      "metadata": {
        "id": "XURy5A1pdZcI",
        "colab_type": "code",
        "outputId": "28afbf3c-d666-47e3-aea2-44d015d391df",
        "colab": {
          "base_uri": "https://localhost:8080/",
          "height": 51
        }
      },
      "source": [
        "vals = list(range(1,100))\n",
        "tic = time.time()\n",
        "for x in vals:\n",
        "  y = 1\n",
        "  for i in range(1, x):\n",
        "    y *= i\n",
        "toc = time.time()\n",
        "print(\"Time elapsed:\", toc -tic)\n",
        "\n",
        "tic = time.time()\n",
        "for x in vals:\n",
        "  y = m.factorial(x)\n",
        "toc = time.time()\n",
        "print(\"Time elapsed:\", toc -tic)\n"
      ],
      "execution_count": 0,
      "outputs": [
        {
          "output_type": "stream",
          "text": [
            "Time elapsed: 0.0006563663482666016\n",
            "Time elapsed: 0.00023508071899414062\n"
          ],
          "name": "stdout"
        }
      ]
    },
    {
      "cell_type": "code",
      "metadata": {
        "id": "eWEaPMOPeZK2",
        "colab_type": "code",
        "colab": {}
      },
      "source": [
        "!echo 'def hello():' > my_first_module.py\n",
        "!echo '    print(\"Hello; I am living in a different file\")' >> my_first_module.py"
      ],
      "execution_count": 0,
      "outputs": []
    },
    {
      "cell_type": "code",
      "metadata": {
        "id": "YmhsTmGveylj",
        "colab_type": "code",
        "colab": {}
      },
      "source": [
        "import my_first_module"
      ],
      "execution_count": 0,
      "outputs": []
    },
    {
      "cell_type": "code",
      "metadata": {
        "id": "rcNdqZQCe1-C",
        "colab_type": "code",
        "outputId": "587f0d1c-5707-4dec-b86c-7a10c9b6a7eb",
        "colab": {
          "base_uri": "https://localhost:8080/",
          "height": 34
        }
      },
      "source": [
        "my_first_module.hello()"
      ],
      "execution_count": 0,
      "outputs": [
        {
          "output_type": "stream",
          "text": [
            "Hello; I am living in a different file\n"
          ],
          "name": "stdout"
        }
      ]
    },
    {
      "cell_type": "markdown",
      "metadata": {
        "id": "D7IBg2kFP_qj",
        "colab_type": "text"
      },
      "source": [
        "# File Handling"
      ]
    },
    {
      "cell_type": "code",
      "metadata": {
        "id": "GGlO87vgQCt5",
        "colab_type": "code",
        "colab": {
          "base_uri": "https://localhost:8080/",
          "height": 207
        },
        "outputId": "d18f474b-64a8-41cc-a657-33342db053b1"
      },
      "source": [
        "!wget https://www.dropbox.com/s/w94odi4aq1k44lf/mobile_cleaned.csv"
      ],
      "execution_count": 3,
      "outputs": [
        {
          "output_type": "stream",
          "text": [
            "--2020-03-24 11:17:56--  https://www.dropbox.com/s/w94odi4aq1k44lf/mobile_cleaned.csv\n",
            "Resolving www.dropbox.com (www.dropbox.com)... 162.125.1.1, 2620:100:601b:1::a27d:801\n",
            "Connecting to www.dropbox.com (www.dropbox.com)|162.125.1.1|:443... connected.\n",
            "HTTP request sent, awaiting response... 301 Moved Permanently\n",
            "Location: /s/raw/w94odi4aq1k44lf/mobile_cleaned.csv [following]\n",
            "--2020-03-24 11:17:56--  https://www.dropbox.com/s/raw/w94odi4aq1k44lf/mobile_cleaned.csv\n",
            "Reusing existing connection to www.dropbox.com:443.\n",
            "HTTP request sent, awaiting response... 404 Not Found\n",
            "2020-03-24 11:17:56 ERROR 404: Not Found.\n",
            "\n"
          ],
          "name": "stdout"
        }
      ]
    },
    {
      "cell_type": "code",
      "metadata": {
        "id": "Ppj0RD4_QfXM",
        "colab_type": "code",
        "colab": {
          "base_uri": "https://localhost:8080/",
          "height": 34
        },
        "outputId": "78e41a76-b334-49eb-b5f6-0ab135861198"
      },
      "source": [
        "!ls"
      ],
      "execution_count": 1,
      "outputs": [
        {
          "output_type": "stream",
          "text": [
            "sample_data\n"
          ],
          "name": "stdout"
        }
      ]
    }
  ]
}